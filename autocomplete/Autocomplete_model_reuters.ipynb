{
 "cells": [
  {
   "cell_type": "code",
   "execution_count": 1,
   "id": "61b39779",
   "metadata": {},
   "outputs": [],
   "source": [
    "import nltk"
   ]
  },
  {
   "cell_type": "code",
   "execution_count": 5,
   "id": "603bcaaa",
   "metadata": {},
   "outputs": [
    {
     "name": "stderr",
     "output_type": "stream",
     "text": [
      "[nltk_data] Downloading package punkt to\n",
      "[nltk_data]     C:\\Users\\zhuko\\AppData\\Roaming\\nltk_data...\n",
      "[nltk_data]   Package punkt is already up-to-date!\n",
      "[nltk_data] Downloading package stopwords to\n",
      "[nltk_data]     C:\\Users\\zhuko\\AppData\\Roaming\\nltk_data...\n",
      "[nltk_data]   Package stopwords is already up-to-date!\n",
      "[nltk_data] Downloading package reuters to\n",
      "[nltk_data]     C:\\Users\\zhuko\\AppData\\Roaming\\nltk_data...\n"
     ]
    },
    {
     "data": {
      "text/plain": [
       "True"
      ]
     },
     "execution_count": 5,
     "metadata": {},
     "output_type": "execute_result"
    }
   ],
   "source": [
    "nltk.download('punkt')\n",
    "nltk.download('stopwords')\n",
    "nltk.download('reuters')"
   ]
  },
  {
   "cell_type": "raw",
   "id": "84805d08",
   "metadata": {},
   "source": [
    "Немного теории:\n",
    "\n",
    "В модели MLE (Maximum Likelihood Estimation) из библиотеки NLTK генерация следующего слова происходит на основе вероятности каждого слова в контексте.\n",
    "\n",
    "Вероятность каждого слова вычисляется на основе частоты встречаемости n-грамм в обучающем корпусе. В данном случае, поскольку n=3, модель учитывает последовательности из трёх слов. Для каждого слова в словаре модель вычисляет условную вероятность его появления после контекста.\n",
    "\n",
    "Слово с максимальной вероятностью выбирается как следующее слово.\n",
    "\n",
    "Это не обязательно самое популярное слово в корпусе, а скорее слово, которое наиболее вероятно появится в данном контексте на основе обучающих данных. Однако, если в обучающем корпусе есть слова, которые часто встречаются в контексте (\"word1\", \"word2\"), они будут иметь более высокую вероятность быть выбранными."
   ]
  },
  {
   "cell_type": "code",
   "execution_count": 2,
   "id": "e713117c",
   "metadata": {},
   "outputs": [],
   "source": [
    "from nltk.lm import MLE\n",
    "from nltk.corpus import reuters\n",
    "from nltk.lm.preprocessing import padded_everygram_pipeline\n",
    "from nltk.tokenize import word_tokenize"
   ]
  },
  {
   "cell_type": "code",
   "execution_count": 3,
   "id": "5929de1f",
   "metadata": {},
   "outputs": [],
   "source": [
    "# Подготовка данных\n",
    "texts = reuters.sents()"
   ]
  },
  {
   "cell_type": "code",
   "execution_count": 53,
   "id": "6126b630",
   "metadata": {},
   "outputs": [
    {
     "data": {
      "text/plain": [
       "[['ASIAN', 'EXPORTERS', 'FEAR', 'DAMAGE', 'FROM', 'U', '.', 'S', '.-', 'JAPAN', 'RIFT', 'Mounting', 'trade', 'friction', 'between', 'the', 'U', '.', 'S', '.', 'And', 'Japan', 'has', 'raised', 'fears', 'among', 'many', 'of', 'Asia', \"'\", 's', 'exporting', 'nations', 'that', 'the', 'row', 'could', 'inflict', 'far', '-', 'reaching', 'economic', 'damage', ',', 'businessmen', 'and', 'officials', 'said', '.'], ['They', 'told', 'Reuter', 'correspondents', 'in', 'Asian', 'capitals', 'a', 'U', '.', 'S', '.', 'Move', 'against', 'Japan', 'might', 'boost', 'protectionist', 'sentiment', 'in', 'the', 'U', '.', 'S', '.', 'And', 'lead', 'to', 'curbs', 'on', 'American', 'imports', 'of', 'their', 'products', '.'], ...]"
      ]
     },
     "execution_count": 53,
     "metadata": {},
     "output_type": "execute_result"
    }
   ],
   "source": [
    "texts"
   ]
  },
  {
   "cell_type": "code",
   "execution_count": 54,
   "id": "47690e83",
   "metadata": {},
   "outputs": [],
   "source": [
    "# Преобразование текстов в последовательности n-gram\n",
    "n = 3\n",
    "train_data, padded_vocab = padded_everygram_pipeline(n, texts)"
   ]
  },
  {
   "cell_type": "code",
   "execution_count": 38,
   "id": "9c65a4a4",
   "metadata": {},
   "outputs": [],
   "source": [
    "# Обучение модели MLE\n",
    "model = MLE(n)\n",
    "model.fit(train_data, padded_vocab)"
   ]
  },
  {
   "cell_type": "code",
   "execution_count": 55,
   "id": "fafd2a8e",
   "metadata": {},
   "outputs": [],
   "source": [
    "context = (\"the\",\"stock\")"
   ]
  },
  {
   "cell_type": "code",
   "execution_count": 56,
   "id": "b0aa959c",
   "metadata": {},
   "outputs": [
    {
     "name": "stdout",
     "output_type": "stream",
     "text": [
      "Следующее слово: ['of', '&']\n"
     ]
    }
   ],
   "source": [
    "print(\"Следующее слово:\", model.generate(2, context, random_seed=42))"
   ]
  },
  {
   "cell_type": "code",
   "execution_count": 57,
   "id": "6b311e40",
   "metadata": {},
   "outputs": [],
   "source": [
    "# Получаем вероятности всех слов в словаре\n",
    "#scores = {word: model.score(word, context) for word in model.vocab}\n",
    "scores = {word: model.score(word, context) for word in model.vocab if word.isalpha()}"
   ]
  },
  {
   "cell_type": "code",
   "execution_count": 58,
   "id": "f6fb464f",
   "metadata": {},
   "outputs": [],
   "source": [
    "# Отсортируем слова по их вероятности и выберем топ-5\n",
    "top_5 = sorted(scores.items(), key=lambda x: x[1], reverse=True)[:5]"
   ]
  },
  {
   "cell_type": "code",
   "execution_count": 59,
   "id": "31164e40",
   "metadata": {},
   "outputs": [
    {
     "name": "stdout",
     "output_type": "stream",
     "text": [
      "Топ-5 слов с максимальной вероятностью:\n",
      "of: 0.1088\n",
      "for: 0.0881\n",
      "market: 0.0829\n",
      "split: 0.0518\n",
      "to: 0.0415\n"
     ]
    }
   ],
   "source": [
    "# Выводим результаты\n",
    "print(\"Топ-5 слов с максимальной вероятностью:\")\n",
    "for word, score in top_5:\n",
    "    print(f\"{word}: {score:.4f}\")"
   ]
  },
  {
   "cell_type": "code",
   "execution_count": 39,
   "id": "f43bfe84",
   "metadata": {},
   "outputs": [],
   "source": [
    "from collections import defaultdict, Counter"
   ]
  },
  {
   "cell_type": "code",
   "execution_count": 40,
   "id": "ccc5a44c",
   "metadata": {},
   "outputs": [],
   "source": [
    "# Создание частотного распределения для каждого контекста\n",
    "context_word_freq = defaultdict(Counter)\n",
    "\n",
    "for sentence in texts:\n",
    "    for i in range(len(sentence) - 2):\n",
    "        context = (sentence[i], sentence[i + 1])\n",
    "        word = sentence[i + 2]\n",
    "        context_word_freq[context][word] += 1"
   ]
  },
  {
   "cell_type": "code",
   "execution_count": 44,
   "id": "c5703957",
   "metadata": {},
   "outputs": [],
   "source": [
    "context = (\"the\", \"stock\")"
   ]
  },
  {
   "cell_type": "code",
   "execution_count": 45,
   "id": "98b17a32",
   "metadata": {},
   "outputs": [],
   "source": [
    "# Получаем топ-5 слов для заданного контекста\n",
    "top_words = context_word_freq[context].most_common(5)"
   ]
  },
  {
   "cell_type": "code",
   "execution_count": 46,
   "id": "3a890298",
   "metadata": {},
   "outputs": [
    {
     "name": "stdout",
     "output_type": "stream",
     "text": [
      "Топ-5 слов для контекста ('the', 'stock') : [('of', 21), ('for', 17), ('market', 16), ('split', 10), (',', 9)]\n"
     ]
    }
   ],
   "source": [
    "# Выводим результат\n",
    "print(\"Топ-5 слов для контекста\", context, \":\", top_words)"
   ]
  },
  {
   "cell_type": "code",
   "execution_count": 60,
   "id": "9a42268f",
   "metadata": {},
   "outputs": [],
   "source": [
    "context_counts = model.context_counts(model.vocab.lookup(context))\n",
    "sorted_words = sorted(context_counts.items(), key=lambda item: item[1], reverse=True)\n",
    "top_5_words = [word for word, count in sorted_words[:5]]"
   ]
  },
  {
   "cell_type": "code",
   "execution_count": 61,
   "id": "929650de",
   "metadata": {},
   "outputs": [
    {
     "name": "stdout",
     "output_type": "stream",
     "text": [
      "Топ-5 следующих слов для заданного контекста: ['of', 'for', 'market', 'split', ',']\n"
     ]
    }
   ],
   "source": [
    "print(\"Топ-5 следующих слов для заданного контекста:\", top_5_words)"
   ]
  },
  {
   "cell_type": "code",
   "execution_count": null,
   "id": "f62c447d",
   "metadata": {},
   "outputs": [],
   "source": []
  }
 ],
 "metadata": {
  "kernelspec": {
   "display_name": "Python 3 (ipykernel)",
   "language": "python",
   "name": "python3"
  },
  "language_info": {
   "codemirror_mode": {
    "name": "ipython",
    "version": 3
   },
   "file_extension": ".py",
   "mimetype": "text/x-python",
   "name": "python",
   "nbconvert_exporter": "python",
   "pygments_lexer": "ipython3",
   "version": "3.9.7"
  }
 },
 "nbformat": 4,
 "nbformat_minor": 5
}
